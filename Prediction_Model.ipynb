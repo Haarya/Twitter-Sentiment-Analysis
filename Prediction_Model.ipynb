{
  "nbformat": 4,
  "nbformat_minor": 0,
  "metadata": {
    "colab": {
      "provenance": [],
      "authorship_tag": "ABX9TyN+QPk5Ey2POZzTH1kBrZ/j",
      "include_colab_link": true
    },
    "kernelspec": {
      "name": "python3",
      "display_name": "Python 3"
    },
    "language_info": {
      "name": "python"
    }
  },
  "cells": [
    {
      "cell_type": "markdown",
      "metadata": {
        "id": "view-in-github",
        "colab_type": "text"
      },
      "source": [
        "<a href=\"https://colab.research.google.com/github/Haarya/Twitter-Sentiment-Analysis/blob/main/Prediction_Model.ipynb\" target=\"_parent\"><img src=\"https://colab.research.google.com/assets/colab-badge.svg\" alt=\"Open In Colab\"/></a>"
      ]
    },
    {
      "cell_type": "code",
      "execution_count": null,
      "metadata": {
        "colab": {
          "base_uri": "https://localhost:8080/"
        },
        "id": "LhGbo6rTJn61",
        "outputId": "a0b5aaed-532f-4fdf-ce17-bd645f55a7d0"
      },
      "outputs": [
        {
          "output_type": "stream",
          "name": "stderr",
          "text": [
            "[nltk_data] Downloading package stopwords to /root/nltk_data...\n",
            "[nltk_data]   Package stopwords is already up-to-date!\n"
          ]
        }
      ],
      "source": [
        "import pickle\n",
        "import re\n",
        "import nltk\n",
        "from nltk.corpus import stopwords\n",
        "from nltk.stem.porter import PorterStemmer\n",
        "\n",
        "# It's good practice to download this if you're on a new machine\n",
        "nltk.download('stopwords')\n",
        "\n",
        "# Initialize the stemmer\n",
        "port_stem = PorterStemmer()\n",
        "\n",
        "# --- 1. Load the Saved Model and Vectorizer ---\n",
        "# Load the vectorizer\n",
        "vectorizer = pickle.load(open('vectorizer.sav', 'rb'))\n",
        "\n",
        "# Load the model\n",
        "loaded_model = pickle.load(open('trained_model.sav', 'rb'))\n",
        "\n",
        "\n"
      ]
    },
    {
      "cell_type": "code",
      "source": [
        "# --- 2. Create the same preprocessing function from your notebook ---\n",
        "def preprocess_tweet(content):\n",
        "  \"\"\"\n",
        "  This function takes a raw tweet string and performs the same cleaning steps\n",
        "  as the training data: removes non-letters, converts to lowercase, splits\n",
        "  into words, removes stop words, and stems the words.\n",
        "  \"\"\"\n",
        "  # Remove non-alphabetic characters and convert to lowercase\n",
        "  stemmed_content = re.sub('[^a-zA-Z]', ' ', content)\n",
        "  stemmed_content = stemmed_content.lower()\n",
        "  stemmed_content = stemmed_content.split()\n",
        "\n",
        "  # Stem words and remove stopwords\n",
        "  stemmed_content = [port_stem.stem(word) for word in stemmed_content if not word in stopwords.words('english')]\n",
        "\n",
        "  # Rejoin words into a single string\n",
        "  stemmed_content = ' '.join(stemmed_content)\n",
        "  return stemmed_content\n",
        "\n",
        "\n",
        "# --- 3. Make Predictions on New Tweets ---\n",
        "def predict_sentiment(tweet_text):\n",
        "    \"\"\"\n",
        "    Takes a raw tweet, preprocesses it, transforms it with the vectorizer,\n",
        "    and predicts the sentiment using the loaded model.\n",
        "    \"\"\"\n",
        "    # Preprocess the new tweet\n",
        "    processed_tweet = preprocess_tweet(tweet_text)\n",
        "\n",
        "    # Transform the processed tweet into a numerical vector\n",
        "    # Note: vectorizer.transform expects an iterable (like a list)\n",
        "    tweet_vector = vectorizer.transform([processed_tweet])\n",
        "\n",
        "    # Make a prediction\n",
        "    prediction = loaded_model.predict(tweet_vector)\n",
        "\n",
        "    # Return the result\n",
        "    if (prediction[0] == 0):\n",
        "      return 'Negative '\n",
        "    else:\n",
        "      return 'Positive '\n",
        "\n",
        "# --- Example Usage ---\n",
        "if __name__ == '__main__':\n",
        "    # Test with a positive tweet\n",
        "    test_tweet_1 = \"I love this beautiful morning, everything is just perfect!\"\n",
        "    print(f\"Tweet: '{test_tweet_1}'\")\n",
        "    print(f\"Prediction: {predict_sentiment(test_tweet_1)}\\n\")\n",
        "\n",
        "    # Test with a negative tweet\n",
        "    test_tweet_2 = \"I'm so tired of this bad weather, it's making me sad.\"\n",
        "    print(f\"Tweet: '{test_tweet_2}'\")\n",
        "    print(f\"Prediction: {predict_sentiment(test_tweet_2)}\")"
      ],
      "metadata": {
        "colab": {
          "base_uri": "https://localhost:8080/"
        },
        "id": "rxNbsT3jQiRM",
        "outputId": "b213c425-1570-4041-9d04-19121dd67b25"
      },
      "execution_count": null,
      "outputs": [
        {
          "output_type": "stream",
          "name": "stdout",
          "text": [
            "Tweet: 'I love this beautiful morning, everything is just perfect!'\n",
            "Prediction: Positive \n",
            "\n",
            "Tweet: 'I'm so tired of this bad weather, it's making me sad.'\n",
            "Prediction: Negative \n"
          ]
        }
      ]
    },
    {
      "cell_type": "code",
      "source": [],
      "metadata": {
        "id": "gVoFTwkYRM9S"
      },
      "execution_count": null,
      "outputs": []
    }
  ]
}